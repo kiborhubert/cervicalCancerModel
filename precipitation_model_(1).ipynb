{
  "nbformat": 4,
  "nbformat_minor": 0,
  "metadata": {
    "interpreter": {
      "hash": "26a86034e6cb9b77a37ecdae943303024aa1096bab11d1105a68b4c37778abe6"
    },
    "kernelspec": {
      "display_name": "Python 3 (ipykernel)",
      "language": "python",
      "name": "python3"
    },
    "language_info": {
      "codemirror_mode": {
        "name": "ipython",
        "version": 3
      },
      "file_extension": ".py",
      "mimetype": "text/x-python",
      "name": "python",
      "nbconvert_exporter": "python",
      "pygments_lexer": "ipython3",
      "version": "3.10.0"
    },
    "colab": {
      "name": "precipitation_model (1).ipynb",
      "provenance": [],
      "collapsed_sections": [],
      "include_colab_link": true
    }
  },
  "cells": [
    {
      "cell_type": "markdown",
      "metadata": {
        "id": "view-in-github",
        "colab_type": "text"
      },
      "source": [
        "<a href=\"https://colab.research.google.com/github/kiborhubert/cancer_screening/blob/main/precipitation_model_(1).ipynb\" target=\"_parent\"><img src=\"https://colab.research.google.com/assets/colab-badge.svg\" alt=\"Open In Colab\"/></a>"
      ]
    },
    {
      "cell_type": "code",
      "source": [
        ""
      ],
      "metadata": {
        "id": "TBMG9KsV3K41"
      },
      "execution_count": null,
      "outputs": []
    },
    {
      "cell_type": "markdown",
      "metadata": {
        "id": "odE7vH5D0u4t"
      },
      "source": [
        "Lib Imports"
      ]
    },
    {
      "cell_type": "code",
      "metadata": {
        "colab": {
          "base_uri": "https://localhost:8080/"
        },
        "id": "9pU1Uycz4tJa",
        "outputId": "fca01bd2-1788-48b6-e5ac-b5d7bf4d2cdb"
      },
      "source": [
        "from google.colab import drive\n",
        "drive.mount('/content/drive')"
      ],
      "execution_count": null,
      "outputs": [
        {
          "output_type": "stream",
          "name": "stdout",
          "text": [
            "Mounted at /content/drive\n"
          ]
        }
      ]
    },
    {
      "cell_type": "code",
      "metadata": {
        "id": "7OKPTuFy0u49"
      },
      "source": [
        "import pandas as pd\n",
        "import numpy as np\n",
        "from sklearn.ensemble import RandomForestRegressor\n",
        "from sklearn.model_selection import train_test_split\n",
        "import pickle\n",
        "import warnings\n",
        "warnings.filterwarnings('ignore')"
      ],
      "execution_count": null,
      "outputs": []
    },
    {
      "cell_type": "markdown",
      "metadata": {
        "id": "qXPG4qQ40u5G"
      },
      "source": [
        "Data Import"
      ]
    },
    {
      "cell_type": "code",
      "metadata": {
        "id": "yCLgGo270u5I"
      },
      "source": [
        "# Load dataset into a pandas dataframe objecte named 'weatherdata'\n",
        "# complete code below\n",
        "data = pd.read_csv(\"/content/weatherdata.csv\")\n"
      ],
      "execution_count": null,
      "outputs": []
    },
    {
      "cell_type": "code",
      "metadata": {
        "id": "Cj1QCraX0u5K",
        "colab": {
          "base_uri": "https://localhost:8080/",
          "height": 485
        },
        "outputId": "e304ec4b-b934-4b77-9d47-24bc1b11ad38"
      },
      "source": [
        "# remove rows with missing values e.g. NaN values as our algorithms only work with numbers\n",
        "data.dropna(axis=0)\n",
        "data\n"
      ],
      "execution_count": null,
      "outputs": [
        {
          "output_type": "execute_result",
          "data": {
            "text/plain": [
              "           Date  Longitude  Latitude  Elevation  Max Temperature  \\\n",
              "1/1/1979     35     1.0928      1799     21.886            6.885   \n",
              "1/2/1979     35     1.0928      1799     21.723            8.990   \n",
              "1/3/1979     35     1.0928      1799     22.850            8.547   \n",
              "1/4/1979     35     1.0928      1799     23.016            8.093   \n",
              "1/5/1979     35     1.0928      1799     23.341            8.145   \n",
              "...         ...        ...       ...        ...              ...   \n",
              "7/27/2014    35     1.0928      1799     24.031           11.336   \n",
              "7/28/2014    35     1.0928      1799     23.166            8.951   \n",
              "7/29/2014    35     1.0928      1799     24.016            8.532   \n",
              "7/30/2014    35     1.0928      1799     23.519            8.014   \n",
              "7/31/2014    35     1.0928      1799     24.625            8.261   \n",
              "\n",
              "           Min Temperature  Precipitation      Wind  Relative Humidity  Solar  \n",
              "1/1/1979          0.069523       2.199968  0.578949          18.429755    NaN  \n",
              "1/2/1979          0.000000       2.286794  0.595363          17.852057    NaN  \n",
              "1/3/1979          0.000000       2.831001  0.550420          25.196680    NaN  \n",
              "1/4/1979          0.000000       2.989940  0.555624          24.853055    NaN  \n",
              "1/5/1979          0.000000       2.988336  0.593102          27.799940    NaN  \n",
              "...                    ...            ...       ...                ...    ...  \n",
              "7/27/2014         0.688362       0.893759  0.820791          13.111841    NaN  \n",
              "7/28/2014         0.006866       1.115741  0.790885          14.670299    NaN  \n",
              "7/29/2014         0.127029       0.987643  0.768541          17.040896    NaN  \n",
              "7/30/2014         0.003433       1.118634  0.762398          16.690118    NaN  \n",
              "7/31/2014         1.002502       1.088613  0.772691          16.576026    NaN  \n",
              "\n",
              "[12987 rows x 10 columns]"
            ],
            "text/html": [
              "\n",
              "  <div id=\"df-581d5b33-ccbf-4019-9131-407375cfa258\">\n",
              "    <div class=\"colab-df-container\">\n",
              "      <div>\n",
              "<style scoped>\n",
              "    .dataframe tbody tr th:only-of-type {\n",
              "        vertical-align: middle;\n",
              "    }\n",
              "\n",
              "    .dataframe tbody tr th {\n",
              "        vertical-align: top;\n",
              "    }\n",
              "\n",
              "    .dataframe thead th {\n",
              "        text-align: right;\n",
              "    }\n",
              "</style>\n",
              "<table border=\"1\" class=\"dataframe\">\n",
              "  <thead>\n",
              "    <tr style=\"text-align: right;\">\n",
              "      <th></th>\n",
              "      <th>Date</th>\n",
              "      <th>Longitude</th>\n",
              "      <th>Latitude</th>\n",
              "      <th>Elevation</th>\n",
              "      <th>Max Temperature</th>\n",
              "      <th>Min Temperature</th>\n",
              "      <th>Precipitation</th>\n",
              "      <th>Wind</th>\n",
              "      <th>Relative Humidity</th>\n",
              "      <th>Solar</th>\n",
              "    </tr>\n",
              "  </thead>\n",
              "  <tbody>\n",
              "    <tr>\n",
              "      <th>1/1/1979</th>\n",
              "      <td>35</td>\n",
              "      <td>1.0928</td>\n",
              "      <td>1799</td>\n",
              "      <td>21.886</td>\n",
              "      <td>6.885</td>\n",
              "      <td>0.069523</td>\n",
              "      <td>2.199968</td>\n",
              "      <td>0.578949</td>\n",
              "      <td>18.429755</td>\n",
              "      <td>NaN</td>\n",
              "    </tr>\n",
              "    <tr>\n",
              "      <th>1/2/1979</th>\n",
              "      <td>35</td>\n",
              "      <td>1.0928</td>\n",
              "      <td>1799</td>\n",
              "      <td>21.723</td>\n",
              "      <td>8.990</td>\n",
              "      <td>0.000000</td>\n",
              "      <td>2.286794</td>\n",
              "      <td>0.595363</td>\n",
              "      <td>17.852057</td>\n",
              "      <td>NaN</td>\n",
              "    </tr>\n",
              "    <tr>\n",
              "      <th>1/3/1979</th>\n",
              "      <td>35</td>\n",
              "      <td>1.0928</td>\n",
              "      <td>1799</td>\n",
              "      <td>22.850</td>\n",
              "      <td>8.547</td>\n",
              "      <td>0.000000</td>\n",
              "      <td>2.831001</td>\n",
              "      <td>0.550420</td>\n",
              "      <td>25.196680</td>\n",
              "      <td>NaN</td>\n",
              "    </tr>\n",
              "    <tr>\n",
              "      <th>1/4/1979</th>\n",
              "      <td>35</td>\n",
              "      <td>1.0928</td>\n",
              "      <td>1799</td>\n",
              "      <td>23.016</td>\n",
              "      <td>8.093</td>\n",
              "      <td>0.000000</td>\n",
              "      <td>2.989940</td>\n",
              "      <td>0.555624</td>\n",
              "      <td>24.853055</td>\n",
              "      <td>NaN</td>\n",
              "    </tr>\n",
              "    <tr>\n",
              "      <th>1/5/1979</th>\n",
              "      <td>35</td>\n",
              "      <td>1.0928</td>\n",
              "      <td>1799</td>\n",
              "      <td>23.341</td>\n",
              "      <td>8.145</td>\n",
              "      <td>0.000000</td>\n",
              "      <td>2.988336</td>\n",
              "      <td>0.593102</td>\n",
              "      <td>27.799940</td>\n",
              "      <td>NaN</td>\n",
              "    </tr>\n",
              "    <tr>\n",
              "      <th>...</th>\n",
              "      <td>...</td>\n",
              "      <td>...</td>\n",
              "      <td>...</td>\n",
              "      <td>...</td>\n",
              "      <td>...</td>\n",
              "      <td>...</td>\n",
              "      <td>...</td>\n",
              "      <td>...</td>\n",
              "      <td>...</td>\n",
              "      <td>...</td>\n",
              "    </tr>\n",
              "    <tr>\n",
              "      <th>7/27/2014</th>\n",
              "      <td>35</td>\n",
              "      <td>1.0928</td>\n",
              "      <td>1799</td>\n",
              "      <td>24.031</td>\n",
              "      <td>11.336</td>\n",
              "      <td>0.688362</td>\n",
              "      <td>0.893759</td>\n",
              "      <td>0.820791</td>\n",
              "      <td>13.111841</td>\n",
              "      <td>NaN</td>\n",
              "    </tr>\n",
              "    <tr>\n",
              "      <th>7/28/2014</th>\n",
              "      <td>35</td>\n",
              "      <td>1.0928</td>\n",
              "      <td>1799</td>\n",
              "      <td>23.166</td>\n",
              "      <td>8.951</td>\n",
              "      <td>0.006866</td>\n",
              "      <td>1.115741</td>\n",
              "      <td>0.790885</td>\n",
              "      <td>14.670299</td>\n",
              "      <td>NaN</td>\n",
              "    </tr>\n",
              "    <tr>\n",
              "      <th>7/29/2014</th>\n",
              "      <td>35</td>\n",
              "      <td>1.0928</td>\n",
              "      <td>1799</td>\n",
              "      <td>24.016</td>\n",
              "      <td>8.532</td>\n",
              "      <td>0.127029</td>\n",
              "      <td>0.987643</td>\n",
              "      <td>0.768541</td>\n",
              "      <td>17.040896</td>\n",
              "      <td>NaN</td>\n",
              "    </tr>\n",
              "    <tr>\n",
              "      <th>7/30/2014</th>\n",
              "      <td>35</td>\n",
              "      <td>1.0928</td>\n",
              "      <td>1799</td>\n",
              "      <td>23.519</td>\n",
              "      <td>8.014</td>\n",
              "      <td>0.003433</td>\n",
              "      <td>1.118634</td>\n",
              "      <td>0.762398</td>\n",
              "      <td>16.690118</td>\n",
              "      <td>NaN</td>\n",
              "    </tr>\n",
              "    <tr>\n",
              "      <th>7/31/2014</th>\n",
              "      <td>35</td>\n",
              "      <td>1.0928</td>\n",
              "      <td>1799</td>\n",
              "      <td>24.625</td>\n",
              "      <td>8.261</td>\n",
              "      <td>1.002502</td>\n",
              "      <td>1.088613</td>\n",
              "      <td>0.772691</td>\n",
              "      <td>16.576026</td>\n",
              "      <td>NaN</td>\n",
              "    </tr>\n",
              "  </tbody>\n",
              "</table>\n",
              "<p>12987 rows × 10 columns</p>\n",
              "</div>\n",
              "      <button class=\"colab-df-convert\" onclick=\"convertToInteractive('df-581d5b33-ccbf-4019-9131-407375cfa258')\"\n",
              "              title=\"Convert this dataframe to an interactive table.\"\n",
              "              style=\"display:none;\">\n",
              "        \n",
              "  <svg xmlns=\"http://www.w3.org/2000/svg\" height=\"24px\"viewBox=\"0 0 24 24\"\n",
              "       width=\"24px\">\n",
              "    <path d=\"M0 0h24v24H0V0z\" fill=\"none\"/>\n",
              "    <path d=\"M18.56 5.44l.94 2.06.94-2.06 2.06-.94-2.06-.94-.94-2.06-.94 2.06-2.06.94zm-11 1L8.5 8.5l.94-2.06 2.06-.94-2.06-.94L8.5 2.5l-.94 2.06-2.06.94zm10 10l.94 2.06.94-2.06 2.06-.94-2.06-.94-.94-2.06-.94 2.06-2.06.94z\"/><path d=\"M17.41 7.96l-1.37-1.37c-.4-.4-.92-.59-1.43-.59-.52 0-1.04.2-1.43.59L10.3 9.45l-7.72 7.72c-.78.78-.78 2.05 0 2.83L4 21.41c.39.39.9.59 1.41.59.51 0 1.02-.2 1.41-.59l7.78-7.78 2.81-2.81c.8-.78.8-2.07 0-2.86zM5.41 20L4 18.59l7.72-7.72 1.47 1.35L5.41 20z\"/>\n",
              "  </svg>\n",
              "      </button>\n",
              "      \n",
              "  <style>\n",
              "    .colab-df-container {\n",
              "      display:flex;\n",
              "      flex-wrap:wrap;\n",
              "      gap: 12px;\n",
              "    }\n",
              "\n",
              "    .colab-df-convert {\n",
              "      background-color: #E8F0FE;\n",
              "      border: none;\n",
              "      border-radius: 50%;\n",
              "      cursor: pointer;\n",
              "      display: none;\n",
              "      fill: #1967D2;\n",
              "      height: 32px;\n",
              "      padding: 0 0 0 0;\n",
              "      width: 32px;\n",
              "    }\n",
              "\n",
              "    .colab-df-convert:hover {\n",
              "      background-color: #E2EBFA;\n",
              "      box-shadow: 0px 1px 2px rgba(60, 64, 67, 0.3), 0px 1px 3px 1px rgba(60, 64, 67, 0.15);\n",
              "      fill: #174EA6;\n",
              "    }\n",
              "\n",
              "    [theme=dark] .colab-df-convert {\n",
              "      background-color: #3B4455;\n",
              "      fill: #D2E3FC;\n",
              "    }\n",
              "\n",
              "    [theme=dark] .colab-df-convert:hover {\n",
              "      background-color: #434B5C;\n",
              "      box-shadow: 0px 1px 3px 1px rgba(0, 0, 0, 0.15);\n",
              "      filter: drop-shadow(0px 1px 2px rgba(0, 0, 0, 0.3));\n",
              "      fill: #FFFFFF;\n",
              "    }\n",
              "  </style>\n",
              "\n",
              "      <script>\n",
              "        const buttonEl =\n",
              "          document.querySelector('#df-581d5b33-ccbf-4019-9131-407375cfa258 button.colab-df-convert');\n",
              "        buttonEl.style.display =\n",
              "          google.colab.kernel.accessAllowed ? 'block' : 'none';\n",
              "\n",
              "        async function convertToInteractive(key) {\n",
              "          const element = document.querySelector('#df-581d5b33-ccbf-4019-9131-407375cfa258');\n",
              "          const dataTable =\n",
              "            await google.colab.kernel.invokeFunction('convertToInteractive',\n",
              "                                                     [key], {});\n",
              "          if (!dataTable) return;\n",
              "\n",
              "          const docLinkHtml = 'Like what you see? Visit the ' +\n",
              "            '<a target=\"_blank\" href=https://colab.research.google.com/notebooks/data_table.ipynb>data table notebook</a>'\n",
              "            + ' to learn more about interactive tables.';\n",
              "          element.innerHTML = '';\n",
              "          dataTable['output_type'] = 'display_data';\n",
              "          await google.colab.output.renderOutput(dataTable, element);\n",
              "          const docLink = document.createElement('div');\n",
              "          docLink.innerHTML = docLinkHtml;\n",
              "          element.appendChild(docLink);\n",
              "        }\n",
              "      </script>\n",
              "    </div>\n",
              "  </div>\n",
              "  "
            ]
          },
          "metadata": {},
          "execution_count": 6
        }
      ]
    },
    {
      "cell_type": "code",
      "metadata": {
        "id": "f_4DJaqP0u5M"
      },
      "source": [
        "# Choose target features, complete the line below\n",
        "target_feature = data.Precipitation\n",
        "# Choose input features, complete the lines below\n",
        "features = ['Longitude', 'Latitude', 'Elevation',\t'Max Temperature','Min Temperature','Wind','Relative Humidity']\n",
        "input_features = data[features]"
      ],
      "execution_count": null,
      "outputs": []
    },
    {
      "cell_type": "markdown",
      "metadata": {
        "id": "1meFT5iW0u5N"
      },
      "source": [
        "Model Training i.e. use the cells below to create and train a Random Forest Regresor Model"
      ]
    },
    {
      "cell_type": "code",
      "metadata": {
        "colab": {
          "base_uri": "https://localhost:8080/"
        },
        "id": "pM4jJpTw0u5P",
        "outputId": "ec1c505d-cdd2-49f9-e923-271a9042efdd"
      },
      "source": [
        "train_x,X,train_y,Y = train_test_split(input_features,target_feature,random_state=0)\n",
        "regFunc = RandomForestRegressor(random_state=1)\n",
        "regFunc.fit(train_x,train_y)"
      ],
      "execution_count": null,
      "outputs": [
        {
          "output_type": "execute_result",
          "data": {
            "text/plain": [
              "RandomForestRegressor(random_state=1)"
            ]
          },
          "metadata": {},
          "execution_count": 8
        }
      ]
    },
    {
      "cell_type": "markdown",
      "metadata": {
        "id": "gCrEdH_00u5Q"
      },
      "source": [
        "Make Predctions fro the two houses below using your model created above."
      ]
    },
    {
      "cell_type": "code",
      "metadata": {
        "id": "UpPb5eqh0u5R"
      },
      "source": [
        "crop_one = [1.5, 1400, 25, 6.8, 0.0, 0.5, 30]\n",
        "crop_two = [2,1700, 30, 11, 1.89, 1, 2]\n"
      ],
      "execution_count": null,
      "outputs": []
    },
    {
      "cell_type": "code",
      "metadata": {
        "colab": {
          "base_uri": "https://localhost:8080/"
        },
        "id": "DmK-VYR00u5S",
        "outputId": "bf3eed68-0dae-423e-8664-8db49872d1f5"
      },
      "source": [
        "# print predicited precipitation for first region\n",
        "print('PRECIPITATION PREDICTION FOR FIRST REGION IS',regFunc.predict([crop_one]))"
      ],
      "execution_count": null,
      "outputs": [
        {
          "output_type": "stream",
          "name": "stdout",
          "text": [
            "PRECIPITATION PREDICTION FOR FIRST REGION IS [2.70918482]\n"
          ]
        }
      ]
    },
    {
      "cell_type": "code",
      "metadata": {
        "id": "H7n7aoWc0u5T",
        "colab": {
          "base_uri": "https://localhost:8080/"
        },
        "outputId": "65a94b29-eb87-48e5-cdbf-dbcac1e03b5c"
      },
      "source": [
        "# print predicited precipitation for second region\n",
        "print('PRECIPITATION PREDICTION FOR SECOND REGION IS',regFunc.predict([crop_two]))"
      ],
      "execution_count": null,
      "outputs": [
        {
          "output_type": "stream",
          "name": "stdout",
          "text": [
            "PRECIPITATION PREDICTION FOR SECOND REGION IS [1.68426071]\n"
          ]
        }
      ]
    },
    {
      "cell_type": "markdown",
      "metadata": {
        "id": "-RbI7FA00u5U"
      },
      "source": [
        "Save Your Model"
      ]
    },
    {
      "cell_type": "code",
      "metadata": {
        "id": "rrTx18yy0u5V"
      },
      "source": [
        "# Saving model to disk,\n",
        "pickle.dump(regFunc,open('PRECIP_MODEL.pkl','wb'))"
      ],
      "execution_count": 13,
      "outputs": []
    },
    {
      "cell_type": "markdown",
      "source": [
        "# New Section"
      ],
      "metadata": {
        "id": "b4kj8lhOLy36"
      }
    },
    {
      "cell_type": "code",
      "source": [
        ""
      ],
      "metadata": {
        "id": "XSC9QNMqMEvI"
      },
      "execution_count": null,
      "outputs": []
    },
    {
      "cell_type": "code",
      "source": [
        ""
      ],
      "metadata": {
        "id": "7w4FwTF8MFlu"
      },
      "execution_count": null,
      "outputs": []
    },
    {
      "cell_type": "markdown",
      "metadata": {
        "id": "5MTSkROq0u5V"
      },
      "source": [
        "The End"
      ]
    }
  ]
}